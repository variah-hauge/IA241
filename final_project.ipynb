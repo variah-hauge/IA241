{
 "cells": [
  {
   "cell_type": "markdown",
   "id": "a3f572d5",
   "metadata": {},
   "source": [
    "# South Africa Covid-19 Data Visualization in Python "
   ]
  },
  {
   "cell_type": "markdown",
   "id": "8d115601",
   "metadata": {},
   "source": [
    "# author info"
   ]
  },
  {
   "cell_type": "code",
   "execution_count": 78,
   "id": "96e3184e",
   "metadata": {},
   "outputs": [
    {
     "name": "stdout",
     "output_type": "stream",
     "text": [
      "The author, Variah Hauge, is a sophomore student at James Madison University studying Intelligence Analysis. This project is for the 2021 spring semester course: IA241.\n"
     ]
    }
   ],
   "source": [
    "print('The author, Variah Hauge, is a sophomore student at James Madison University studying Intelligence Analysis. This project is for the 2021 spring semester course: IA241.')"
   ]
  },
  {
   "cell_type": "markdown",
   "id": "03ee0c7d",
   "metadata": {},
   "source": [
    "## background of covid-19 in South Africa "
   ]
  },
  {
   "cell_type": "code",
   "execution_count": 79,
   "id": "7b7cbfee",
   "metadata": {},
   "outputs": [
    {
     "name": "stdout",
     "output_type": "stream",
     "text": [
      "South Africa currently has the most covid-19 cases of any country in Africa and as of February 2021, has surpassed 1.5M cases. A more contagious variant of the covid-19 strain, known as 501Y.V2, also originated in the country. The main vaccines the country is administering are the Johnson & Johnson vaccine and the COVAX vaccine. \n"
     ]
    }
   ],
   "source": [
    "print('South Africa currently has the most covid-19 cases of any country in Africa and as of February 2021, has surpassed 1.5M cases. A more contagious variant of the covid-19 strain, known as 501Y.V2, also originated in the country. The main vaccines the country is administering are the Johnson & Johnson vaccine and the COVAX vaccine. ')"
   ]
  },
  {
   "cell_type": "markdown",
   "id": "52719561",
   "metadata": {},
   "source": [
    "## data source "
   ]
  },
  {
   "cell_type": "markdown",
   "id": "6641201a",
   "metadata": {},
   "source": [
    "the data is from [European Centre for Disease Prevention and Control](https://www.ecdc.europa.eu/en/publications-data/download-todays-data-geographic-distribution-covid-19-cases-worldwide) and contains data from March 2020 to December 2020."
   ]
  },
  {
   "cell_type": "markdown",
   "id": "f3e6939a",
   "metadata": {},
   "source": [
    "![south africa flag](https://upload.wikimedia.org/wikipedia/commons/thumb/a/af/Flag_of_South_Africa.svg/1200px-Flag_of_South_Africa.svg.png)"
   ]
  },
  {
   "cell_type": "code",
   "execution_count": 49,
   "id": "cc5ea942",
   "metadata": {},
   "outputs": [],
   "source": [
    "%matplotlib inline\n",
    "import pandas "
   ]
  },
  {
   "cell_type": "code",
   "execution_count": 50,
   "id": "921e4bd0",
   "metadata": {},
   "outputs": [],
   "source": [
    "df = pandas.read_excel('s3://hauge-ia241-2021spring/COVID-19-geographic-disbtribution-worldwide-2020-12-14.xls')"
   ]
  },
  {
   "cell_type": "markdown",
   "id": "acf02f74",
   "metadata": {},
   "source": [
    "## South Africa covid-19 data "
   ]
  },
  {
   "cell_type": "code",
   "execution_count": 51,
   "id": "07d9e19b",
   "metadata": {
    "scrolled": true
   },
   "outputs": [
    {
     "data": {
      "text/html": [
       "<div>\n",
       "<style scoped>\n",
       "    .dataframe tbody tr th:only-of-type {\n",
       "        vertical-align: middle;\n",
       "    }\n",
       "\n",
       "    .dataframe tbody tr th {\n",
       "        vertical-align: top;\n",
       "    }\n",
       "\n",
       "    .dataframe thead th {\n",
       "        text-align: right;\n",
       "    }\n",
       "</style>\n",
       "<table border=\"1\" class=\"dataframe\">\n",
       "  <thead>\n",
       "    <tr style=\"text-align: right;\">\n",
       "      <th></th>\n",
       "      <th>dateRep</th>\n",
       "      <th>day</th>\n",
       "      <th>month</th>\n",
       "      <th>year</th>\n",
       "      <th>cases</th>\n",
       "      <th>deaths</th>\n",
       "      <th>countriesAndTerritories</th>\n",
       "      <th>geoId</th>\n",
       "      <th>countryterritoryCode</th>\n",
       "      <th>popData2019</th>\n",
       "      <th>continentExp</th>\n",
       "      <th>Cumulative_number_for_14_days_of_COVID-19_cases_per_100000</th>\n",
       "    </tr>\n",
       "  </thead>\n",
       "  <tbody>\n",
       "    <tr>\n",
       "      <th>51838</th>\n",
       "      <td>2020-12-14</td>\n",
       "      <td>14</td>\n",
       "      <td>12</td>\n",
       "      <td>2020</td>\n",
       "      <td>7999</td>\n",
       "      <td>170</td>\n",
       "      <td>South_Africa</td>\n",
       "      <td>ZA</td>\n",
       "      <td>ZAF</td>\n",
       "      <td>58558267.0</td>\n",
       "      <td>Africa</td>\n",
       "      <td>125.109577</td>\n",
       "    </tr>\n",
       "    <tr>\n",
       "      <th>51839</th>\n",
       "      <td>2020-12-13</td>\n",
       "      <td>13</td>\n",
       "      <td>12</td>\n",
       "      <td>2020</td>\n",
       "      <td>7882</td>\n",
       "      <td>154</td>\n",
       "      <td>South_Africa</td>\n",
       "      <td>ZA</td>\n",
       "      <td>ZAF</td>\n",
       "      <td>58558267.0</td>\n",
       "      <td>Africa</td>\n",
       "      <td>115.826515</td>\n",
       "    </tr>\n",
       "    <tr>\n",
       "      <th>51840</th>\n",
       "      <td>2020-12-12</td>\n",
       "      <td>12</td>\n",
       "      <td>12</td>\n",
       "      <td>2020</td>\n",
       "      <td>8319</td>\n",
       "      <td>205</td>\n",
       "      <td>South_Africa</td>\n",
       "      <td>ZA</td>\n",
       "      <td>ZAF</td>\n",
       "      <td>58558267.0</td>\n",
       "      <td>Africa</td>\n",
       "      <td>107.827645</td>\n",
       "    </tr>\n",
       "    <tr>\n",
       "      <th>51841</th>\n",
       "      <td>2020-12-11</td>\n",
       "      <td>11</td>\n",
       "      <td>12</td>\n",
       "      <td>2020</td>\n",
       "      <td>8166</td>\n",
       "      <td>173</td>\n",
       "      <td>South_Africa</td>\n",
       "      <td>ZA</td>\n",
       "      <td>ZAF</td>\n",
       "      <td>58558267.0</td>\n",
       "      <td>Africa</td>\n",
       "      <td>99.376233</td>\n",
       "    </tr>\n",
       "    <tr>\n",
       "      <th>51842</th>\n",
       "      <td>2020-12-10</td>\n",
       "      <td>10</td>\n",
       "      <td>12</td>\n",
       "      <td>2020</td>\n",
       "      <td>6709</td>\n",
       "      <td>142</td>\n",
       "      <td>South_Africa</td>\n",
       "      <td>ZA</td>\n",
       "      <td>ZAF</td>\n",
       "      <td>58558267.0</td>\n",
       "      <td>Africa</td>\n",
       "      <td>90.672082</td>\n",
       "    </tr>\n",
       "    <tr>\n",
       "      <th>51843</th>\n",
       "      <td>2020-12-09</td>\n",
       "      <td>9</td>\n",
       "      <td>12</td>\n",
       "      <td>2020</td>\n",
       "      <td>4011</td>\n",
       "      <td>183</td>\n",
       "      <td>South_Africa</td>\n",
       "      <td>ZA</td>\n",
       "      <td>ZAF</td>\n",
       "      <td>58558267.0</td>\n",
       "      <td>Africa</td>\n",
       "      <td>84.765145</td>\n",
       "    </tr>\n",
       "    <tr>\n",
       "      <th>51844</th>\n",
       "      <td>2020-12-08</td>\n",
       "      <td>8</td>\n",
       "      <td>12</td>\n",
       "      <td>2020</td>\n",
       "      <td>3313</td>\n",
       "      <td>43</td>\n",
       "      <td>South_Africa</td>\n",
       "      <td>ZA</td>\n",
       "      <td>ZAF</td>\n",
       "      <td>58558267.0</td>\n",
       "      <td>Africa</td>\n",
       "      <td>82.172855</td>\n",
       "    </tr>\n",
       "    <tr>\n",
       "      <th>51845</th>\n",
       "      <td>2020-12-07</td>\n",
       "      <td>7</td>\n",
       "      <td>12</td>\n",
       "      <td>2020</td>\n",
       "      <td>4116</td>\n",
       "      <td>139</td>\n",
       "      <td>South_Africa</td>\n",
       "      <td>ZA</td>\n",
       "      <td>ZAF</td>\n",
       "      <td>58558267.0</td>\n",
       "      <td>Africa</td>\n",
       "      <td>80.067260</td>\n",
       "    </tr>\n",
       "    <tr>\n",
       "      <th>51846</th>\n",
       "      <td>2020-12-06</td>\n",
       "      <td>6</td>\n",
       "      <td>12</td>\n",
       "      <td>2020</td>\n",
       "      <td>4645</td>\n",
       "      <td>104</td>\n",
       "      <td>South_Africa</td>\n",
       "      <td>ZA</td>\n",
       "      <td>ZAF</td>\n",
       "      <td>58558267.0</td>\n",
       "      <td>Africa</td>\n",
       "      <td>76.914844</td>\n",
       "    </tr>\n",
       "    <tr>\n",
       "      <th>51847</th>\n",
       "      <td>2020-12-05</td>\n",
       "      <td>5</td>\n",
       "      <td>12</td>\n",
       "      <td>2020</td>\n",
       "      <td>4932</td>\n",
       "      <td>160</td>\n",
       "      <td>South_Africa</td>\n",
       "      <td>ZA</td>\n",
       "      <td>ZAF</td>\n",
       "      <td>58558267.0</td>\n",
       "      <td>Africa</td>\n",
       "      <td>73.501151</td>\n",
       "    </tr>\n",
       "  </tbody>\n",
       "</table>\n",
       "</div>"
      ],
      "text/plain": [
       "         dateRep  day  month  year  cases  deaths countriesAndTerritories  \\\n",
       "51838 2020-12-14   14     12  2020   7999     170            South_Africa   \n",
       "51839 2020-12-13   13     12  2020   7882     154            South_Africa   \n",
       "51840 2020-12-12   12     12  2020   8319     205            South_Africa   \n",
       "51841 2020-12-11   11     12  2020   8166     173            South_Africa   \n",
       "51842 2020-12-10   10     12  2020   6709     142            South_Africa   \n",
       "51843 2020-12-09    9     12  2020   4011     183            South_Africa   \n",
       "51844 2020-12-08    8     12  2020   3313      43            South_Africa   \n",
       "51845 2020-12-07    7     12  2020   4116     139            South_Africa   \n",
       "51846 2020-12-06    6     12  2020   4645     104            South_Africa   \n",
       "51847 2020-12-05    5     12  2020   4932     160            South_Africa   \n",
       "\n",
       "      geoId countryterritoryCode  popData2019 continentExp  \\\n",
       "51838    ZA                  ZAF   58558267.0       Africa   \n",
       "51839    ZA                  ZAF   58558267.0       Africa   \n",
       "51840    ZA                  ZAF   58558267.0       Africa   \n",
       "51841    ZA                  ZAF   58558267.0       Africa   \n",
       "51842    ZA                  ZAF   58558267.0       Africa   \n",
       "51843    ZA                  ZAF   58558267.0       Africa   \n",
       "51844    ZA                  ZAF   58558267.0       Africa   \n",
       "51845    ZA                  ZAF   58558267.0       Africa   \n",
       "51846    ZA                  ZAF   58558267.0       Africa   \n",
       "51847    ZA                  ZAF   58558267.0       Africa   \n",
       "\n",
       "       Cumulative_number_for_14_days_of_COVID-19_cases_per_100000  \n",
       "51838                                         125.109577           \n",
       "51839                                         115.826515           \n",
       "51840                                         107.827645           \n",
       "51841                                          99.376233           \n",
       "51842                                          90.672082           \n",
       "51843                                          84.765145           \n",
       "51844                                          82.172855           \n",
       "51845                                          80.067260           \n",
       "51846                                          76.914844           \n",
       "51847                                          73.501151           "
      ]
     },
     "execution_count": 51,
     "metadata": {},
     "output_type": "execute_result"
    }
   ],
   "source": [
    "sa_data = df.loc[ df['countriesAndTerritories']=='South_Africa' ]\n",
    "sa_data[:10]"
   ]
  },
  {
   "cell_type": "markdown",
   "id": "80a6dd28",
   "metadata": {},
   "source": [
    "## Question 1: How many covid-19 cases have been confirmed in South Africa as of December 2020? "
   ]
  },
  {
   "cell_type": "code",
   "execution_count": 52,
   "id": "1786e4a1",
   "metadata": {},
   "outputs": [
    {
     "data": {
      "text/plain": [
       "860964"
      ]
     },
     "execution_count": 52,
     "metadata": {},
     "output_type": "execute_result"
    }
   ],
   "source": [
    "sa_data.sum()['cases']"
   ]
  },
  {
   "cell_type": "code",
   "execution_count": 66,
   "id": "a01b04c1",
   "metadata": {},
   "outputs": [
    {
     "name": "stdout",
     "output_type": "stream",
     "text": [
      "The number of confirmed covid-19 cases in South Africa as of December 2020 is 860,964.\n"
     ]
    }
   ],
   "source": [
    "print('The number of confirmed covid-19 cases in South Africa as of December 2020 is 860,964.')"
   ]
  },
  {
   "cell_type": "markdown",
   "id": "9ee259f3",
   "metadata": {},
   "source": [
    "## Number of cases per month:"
   ]
  },
  {
   "cell_type": "code",
   "execution_count": 54,
   "id": "eb3da28a",
   "metadata": {},
   "outputs": [],
   "source": [
    "sum_cases_per_month = sa_data.groupby('month').sum()['cases']"
   ]
  },
  {
   "cell_type": "code",
   "execution_count": 55,
   "id": "b6fb5b66",
   "metadata": {},
   "outputs": [
    {
     "data": {
      "text/plain": [
       "<AxesSubplot:xlabel='month'>"
      ]
     },
     "execution_count": 55,
     "metadata": {},
     "output_type": "execute_result"
    },
    {
     "data": {
      "image/png": "[encoded data removed]",
      "text/plain": [
       "<Figure size 432x288 with 1 Axes>"
      ]
     },
     "metadata": {
      "needs_background": "light"
     },
     "output_type": "display_data"
    }
   ],
   "source": [
    "sum_cases_per_month.plot.bar()"
   ]
  },
  {
   "cell_type": "code",
   "execution_count": 56,
   "id": "367e2179",
   "metadata": {},
   "outputs": [
    {
     "name": "stdout",
     "output_type": "stream",
     "text": [
      "month\n",
      "3       1326\n",
      "4       4024\n",
      "5      25617\n",
      "6     113297\n",
      "7     337905\n",
      "8     142887\n",
      "9      47516\n",
      "10     51110\n",
      "11     64020\n",
      "12     73262\n",
      "Name: cases, dtype: int64\n"
     ]
    }
   ],
   "source": [
    "print(sum_cases_per_month)"
   ]
  },
  {
   "cell_type": "code",
   "execution_count": 81,
   "id": "95f41ffc",
   "metadata": {},
   "outputs": [
    {
     "name": "stdout",
     "output_type": "stream",
     "text": [
      "In 2020, South Africa had the largest number of confirmed cases in July: 337,905.\n"
     ]
    }
   ],
   "source": [
    "print('In 2020, South Africa had the largest number of confirmed cases in July: 337,905.')"
   ]
  },
  {
   "cell_type": "markdown",
   "id": "941c088d",
   "metadata": {},
   "source": [
    "## Question 2: How many covid-19 deaths have been confirmed in South Africa as of December 2020? "
   ]
  },
  {
   "cell_type": "code",
   "execution_count": 58,
   "id": "dc866df1",
   "metadata": {},
   "outputs": [
    {
     "data": {
      "text/plain": [
       "23276"
      ]
     },
     "execution_count": 58,
     "metadata": {},
     "output_type": "execute_result"
    }
   ],
   "source": [
    "sa_data.sum()['deaths']"
   ]
  },
  {
   "cell_type": "code",
   "execution_count": 69,
   "id": "ecf1d1b4",
   "metadata": {
    "scrolled": true
   },
   "outputs": [
    {
     "name": "stdout",
     "output_type": "stream",
     "text": [
      "The number of confirmed covid-19 deaths in South Africa as of December 2020 is 23726.\n"
     ]
    }
   ],
   "source": [
    "print('The number of confirmed covid-19 deaths in South Africa as of December 2020 is 23726.')"
   ]
  },
  {
   "cell_type": "markdown",
   "id": "bb11f115",
   "metadata": {},
   "source": [
    "## Question 3: Which month had the highest number of covid-19 deaths in South Africa? "
   ]
  },
  {
   "cell_type": "code",
   "execution_count": 60,
   "id": "43cad763",
   "metadata": {},
   "outputs": [],
   "source": [
    "sum_deaths_per_month = sa_data.groupby('month').sum()['deaths']"
   ]
  },
  {
   "cell_type": "code",
   "execution_count": 61,
   "id": "14686bca",
   "metadata": {
    "scrolled": true
   },
   "outputs": [
    {
     "data": {
      "text/plain": [
       "<AxesSubplot:xlabel='month'>"
      ]
     },
     "execution_count": 61,
     "metadata": {},
     "output_type": "execute_result"
    },
    {
     "data": {
      "image/png": "[encoded data removed]",
      "text/plain": [
       "<Figure size 432x288 with 1 Axes>"
      ]
     },
     "metadata": {
      "needs_background": "light"
     },
     "output_type": "display_data"
    }
   ],
   "source": [
    "sum_deaths_per_month.plot.bar()"
   ]
  },
  {
   "cell_type": "code",
   "execution_count": 62,
   "id": "634806a6",
   "metadata": {},
   "outputs": [
    {
     "name": "stdout",
     "output_type": "stream",
     "text": [
      "month\n",
      "3        3\n",
      "4      100\n",
      "5      540\n",
      "6     1886\n",
      "7     5283\n",
      "8     6216\n",
      "9     2639\n",
      "10    2563\n",
      "11    2247\n",
      "12    1799\n",
      "Name: deaths, dtype: int64\n"
     ]
    }
   ],
   "source": [
    "print(sum_deaths_per_month)"
   ]
  },
  {
   "cell_type": "code",
   "execution_count": 82,
   "id": "6356c07e",
   "metadata": {
    "scrolled": false
   },
   "outputs": [
    {
     "name": "stdout",
     "output_type": "stream",
     "text": [
      "In 2020, South Africa had the largest number of confirmed deaths in August: 6,216.\n"
     ]
    }
   ],
   "source": [
    "print('In 2020, South Africa had the largest number of confirmed deaths in August: 6,216.')"
   ]
  },
  {
   "cell_type": "markdown",
   "id": "17ad9b99",
   "metadata": {},
   "source": [
    "## Number of deaths in relation to number of cases:"
   ]
  },
  {
   "cell_type": "code",
   "execution_count": 64,
   "id": "8fab4416",
   "metadata": {
    "scrolled": true
   },
   "outputs": [
    {
     "data": {
      "text/plain": [
       "<AxesSubplot:xlabel='cases', ylabel='deaths'>"
      ]
     },
     "execution_count": 64,
     "metadata": {},
     "output_type": "execute_result"
    },
    {
     "data": {
      "image/png": "[encoded data removed]",
      "text/plain": [
       "<Figure size 432x288 with 2 Axes>"
      ]
     },
     "metadata": {
      "needs_background": "light"
     },
     "output_type": "display_data"
    }
   ],
   "source": [
    "sa_data.plot.scatter(x='cases',y='deaths',c='month')"
   ]
  },
  {
   "cell_type": "markdown",
   "id": "7d5838b8",
   "metadata": {},
   "source": [
    "## Conclusions and Limitations "
   ]
  },
  {
   "cell_type": "code",
   "execution_count": 83,
   "id": "f03df61a",
   "metadata": {},
   "outputs": [
    {
     "name": "stdout",
     "output_type": "stream",
     "text": [
      "Although the largest number of cases from covid-19 in South Africa in 2020 occured in July, the largest number of deaths occured in August. This is likely due to an increase in cases putting a strain on hospital capacity and healthcare workers. One limitation of the dataset it that it only has information up until December of 2020 and is not up to date with the current situation in South Africa.\n"
     ]
    }
   ],
   "source": [
    "print('Although the largest number of cases from covid-19 in South Africa in 2020 occured in July, the largest number of deaths occured in August. This is likely due to an increase in cases putting a strain on hospital capacity and healthcare workers. One limitation of the dataset it that it only has information up until December of 2020 and is not up to date with the current situation in South Africa.')"
   ]
  },
  {
   "cell_type": "code",
   "execution_count": null,
   "id": "2142d3fd",
   "metadata": {},
   "outputs": [],
   "source": []
  }
 ],
 "metadata": {
  "kernelspec": {
   "display_name": "conda_python3",
   "language": "python",
   "name": "conda_python3"
  },
  "language_info": {
   "codemirror_mode": {
    "name": "ipython",
    "version": 3
   },
   "file_extension": ".py",
   "mimetype": "text/x-python",
   "name": "python",
   "nbconvert_exporter": "python",
   "pygments_lexer": "ipython3",
   "version": "3.6.13"
  }
 },
 "nbformat": 4,
 "nbformat_minor": 5
}
